{
 "cells": [
  {
   "cell_type": "markdown",
   "metadata": {},
   "source": [
    "# Missing Data Periods to JSON"
   ]
  },
  {
   "cell_type": "code",
   "execution_count": 1,
   "metadata": {},
   "outputs": [],
   "source": [
    "import dataclient\n",
    "import pandas as pd\n",
    "import configparser\n",
    "import json\n",
    "\n",
    "import matplotlib.pyplot as plt\n",
    "from matplotlib import style\n",
    "import numpy as np\n",
    "style.use(\"seaborn-notebook\")\n",
    "%matplotlib inline\n",
    "import pprint\n",
    "\n",
    "import sys\n",
    "sys.path.append(\"..\")\n",
    "from Wrapper import *\n",
    "\n",
    "\n",
    "import ipywidgets as widgets\n",
    "import plotly as py\n",
    "import plotly.graph_objs as go\n",
    "\n",
    "#to install plotly extension for jupyter lab see: https://github.com/jupyterlab/jupyter-renderers/tree/master/packages/plotly-extension\n",
    "\n",
    "from scipy import special"
   ]
  },
  {
   "cell_type": "code",
   "execution_count": 2,
   "metadata": {},
   "outputs": [],
   "source": [
    "mdal_obj = Import_MDAL()\n",
    "\n",
    "start = '2016-01-01T00:00:00-08:00' #'2016-01-01T00:00:00Z' for UTC\n",
    "end = '2019-02-01T00:00:00-08:00'# '2019-02-01T00:00:00Z' for UTC\n",
    "\n",
    "site_list = ['avenal-public-works-yard',\n",
    "    'avenal-movie-theatre',\n",
    "    'avenal-recreation-center',\n",
    "    'avenal-animal-shelter',\n",
    "    'avenal-veterans-hall',\n",
    "    'south-berkeley-senior-center',\n",
    "    'north-berkeley-senior-center',\n",
    "    'hayward-station-1',\n",
    "    'hayward-station-8',\n",
    "    'orinda-community-center',\n",
    "    'ciee',\n",
    "    'berkeley-corporate-yard']\n",
    "\n"
   ]
  },
  {
   "cell_type": "code",
   "execution_count": 3,
   "metadata": {},
   "outputs": [],
   "source": [
    "missing_energy_data={}\n",
    "missing_weather_data={}\n",
    "missing_tstat_data={}\n",
    "\n",
    "\"\"\"\n",
    "\n",
    "Input Parameters:\n",
    "obj: object returned from above MDAL Query\n",
    "dictionary: pick dictionary that corresponds with data type\n",
    "low_bound: all data <= this value will be interpreted as missing data\n",
    "high_bound: all data > this value will be interpreted as missing data\n",
    "\n",
    "\n",
    "Returns a JSON file with a dictionary with the missing data events (start and end)\n",
    "        for each column in the inputted object\n",
    "\n",
    "\"\"\"\n",
    "\n",
    "def event_duration(obj,dictionary,low_bound=None, high_bound=None):\n",
    "    clean_data_obj = Clean_Data(obj.df)\n",
    "    dictionary=clean_data_obj.event_duration(obj, dictionary, low_bound, high_bound)\n",
    "    return dictionary"
   ]
  },
  {
   "cell_type": "markdown",
   "metadata": {},
   "source": [
    "### Missing Thermostat Data periods "
   ]
  },
  {
   "cell_type": "code",
   "execution_count": 4,
   "metadata": {},
   "outputs": [],
   "source": [
    "for site in site_list:\n",
    "    try:\n",
    "        obj_tstat = mdal_obj.get_tstat(site=site, start=start, end=end, var='tstat_state', agg='MEAN', window='15min', aligned=True, return_names=True)\n",
    "        event_duration(obj_tstat, dictionary=missing_tstat_data)\n",
    "    except:\n",
    "        print('no data in',site)\n",
    "        \n",
    "#Comment out below to not generate json files        \n",
    "# with open('missing_tstat_data.json',\"w\") as write_file:\n",
    "#     json.dump(missing_tstat_data, write_file)"
   ]
  },
  {
   "cell_type": "markdown",
   "metadata": {},
   "source": [
    "### Missing Energy Data periods "
   ]
  },
  {
   "cell_type": "code",
   "execution_count": 5,
   "metadata": {},
   "outputs": [],
   "source": [
    "for site in site_list:\n",
    "    obj2 =  mdal_obj.get_meter(site=site, start=start, end=end, var='meter', agg='MEAN', window='15min', aligned=True, return_names=True)\n",
    "    event_duration(obj2, dictionary=missing_energy_data)\n",
    "\n",
    "#Comment out below to not generate json files  \n",
    "with open('missing_energy_data.json',\"w\") as write_file:\n",
    "    json.dump(missing_energy_data, write_file)"
   ]
  },
  {
   "cell_type": "markdown",
   "metadata": {},
   "source": [
    "### Missing Weather Data periods "
   ]
  },
  {
   "cell_type": "code",
   "execution_count": 6,
   "metadata": {},
   "outputs": [],
   "source": [
    "for site in site_list:\n",
    "    obj3 = mdal_obj.get_weather(site=site, start=start, end=end, var='weather', agg='MEAN', window='15min', aligned=True, return_names=True)\n",
    "    event_duration(obj3, dictionary=missing_weather_data, low_bound=32, high_bound=110)\n",
    "\n",
    "#Comment out below to not generate json files  \n",
    "with open('missing_weather_data.json',\"w\") as write_file:\n",
    "    json.dump(missing_weather_data, write_file)"
   ]
  }
 ],
 "metadata": {
  "kernelspec": {
   "display_name": "Python [conda env:mortar]",
   "language": "python",
   "name": "conda-env-mortar-py"
  },
  "language_info": {
   "codemirror_mode": {
    "name": "ipython",
    "version": 3
   },
   "file_extension": ".py",
   "mimetype": "text/x-python",
   "name": "python",
   "nbconvert_exporter": "python",
   "pygments_lexer": "ipython3",
   "version": "3.6.6"
  }
 },
 "nbformat": 4,
 "nbformat_minor": 2
}
