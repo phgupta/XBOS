{
 "cells": [
  {
   "cell_type": "code",
   "execution_count": 1,
   "metadata": {},
   "outputs": [],
   "source": [
    "import pandas as pd\n",
    "import configparser\n",
    "import matplotlib.pyplot as plt\n",
    "%matplotlib inline\n",
    "\n",
    "import sys\n",
    "sys.path.append(\"..\")\n",
    "\n",
    "from Wrapper import *"
   ]
  },
  {
   "cell_type": "markdown",
   "metadata": {},
   "source": [
    "## CSV"
   ]
  },
  {
   "cell_type": "markdown",
   "metadata": {},
   "source": [
    "### Read json file\n",
    "\n",
    "The wrapper obj reads the \"input.json\" which contains parameters for manipulating the data and running the different models on it."
   ]
  },
  {
   "cell_type": "code",
   "execution_count": null,
   "metadata": {
    "scrolled": false
   },
   "outputs": [],
   "source": [
    "obj = Wrapper()\n",
    "obj.read_json(file_name='input.json')\n",
    "\n",
    "# Dumps output to \"results\" folder\n",
    "obj.write_json()"
   ]
  },
  {
   "cell_type": "markdown",
   "metadata": {},
   "source": [
    "### Search\n",
    "\n",
    "The wrapper obj read the \"input.json\" which contains parameters for manipulating the data and in addition to running different models, it also tries different time features (year, month, week, dow, tod) & resampling frequencies (15min, hour, day) and finds the optimal model."
   ]
  },
  {
   "cell_type": "code",
   "execution_count": null,
   "metadata": {},
   "outputs": [],
   "source": [
    "obj = Wrapper()\n",
    "obj.search(file_name='input.json')\n",
    "\n",
    "# Dumps output to \"results\" folder\n",
    "obj.write_json()"
   ]
  },
  {
   "cell_type": "markdown",
   "metadata": {},
   "source": [
    "### Progressive\n",
    "\n",
    "This is the recommended way to use the library. In this case, instead of filling all the arguments in a single json file, you can run each function and check if it returns correct data before moving on to the next function."
   ]
  },
  {
   "cell_type": "code",
   "execution_count": null,
   "metadata": {},
   "outputs": [],
   "source": [
    "# Custom function: Can use this function if user wants to test how a particular model performs against the others.\n",
    "def func(X, y):\n",
    "    from sklearn.linear_model import LinearRegression\n",
    "    from sklearn.model_selection import cross_val_score\n",
    "    model = LinearRegression()\n",
    "    model.fit(X, y)\n",
    "    return model.predict(X)\n",
    "\n",
    "obj = Wrapper()\n",
    "\n",
    "imported_data = obj.import_data(folder_name='../data/', head_row=[5,5,0], save_file=False)\n",
    "\n",
    "cleaned_data = obj.clean_data(imported_data, \n",
    "                              resampler='max',\n",
    "                              high_bound=9998,\n",
    "                              rename_col=['OAT','RelHum_Avg', 'CHW_Elec', 'Elec', 'Gas', 'HW_Heat'],\n",
    "                              drop_col='Elec',\n",
    "                              save_file=False)\n",
    "\n",
    "preprocessed_data = obj.preprocess_data(cleaned_data, week=True, tod=True, normalize=True, save_file=False)\n",
    "\n",
    "obj.model(preprocessed_data, dep_col='HW_Heat', alphas=np.logspace(-4,1,5), figsize=(18,5),\n",
    "          cv=5,\n",
    "          baseline_period=[\"2014-01\",\"2014-12\"], \n",
    "          projection_period=[\"2015-01\",\"2015-12\", \"2016-01\",\"2016-12\"],\n",
    "          exclude_time_period=[],\n",
    "          custom_model_func=func)\n",
    "\n",
    "# Dumps output to \"results\" folder\n",
    "obj.write_json()"
   ]
  },
  {
   "cell_type": "markdown",
   "metadata": {},
   "source": [
    "## MDAL\n",
    "\n",
    "Sample code to get data from MDAL. Once you have the imported_data, you can use the above \"Progressive\" method to clean, pre-process and run models on it."
   ]
  },
  {
   "cell_type": "code",
   "execution_count": 4,
   "metadata": {},
   "outputs": [],
   "source": [
    "site = \"south-berkeley-senior-center\"\n",
    "\n",
    "# NOTE: time can be in one of 2 formats only (other formats will result in error),\n",
    "# 1. '2018-09-01T00:00:00Z' (UTC)\n",
    "# 2. '2018-09-01T00:00:00-08:00' (Local Time)\n",
    "\n",
    "start = '2018-09-01T00:00:00Z'\n",
    "end = '2018-11-19T00:00:00Z'"
   ]
  },
  {
   "cell_type": "code",
   "execution_count": 5,
   "metadata": {},
   "outputs": [
    {
     "data": {
      "text/html": [
       "<div>\n",
       "<style scoped>\n",
       "    .dataframe tbody tr th:only-of-type {\n",
       "        vertical-align: middle;\n",
       "    }\n",
       "\n",
       "    .dataframe tbody tr th {\n",
       "        vertical-align: top;\n",
       "    }\n",
       "\n",
       "    .dataframe thead th {\n",
       "        text-align: right;\n",
       "    }\n",
       "</style>\n",
       "<table border=\"1\" class=\"dataframe\">\n",
       "  <thead>\n",
       "    <tr style=\"text-align: right;\">\n",
       "      <th></th>\n",
       "      <th>Green_Button_Meter1</th>\n",
       "    </tr>\n",
       "  </thead>\n",
       "  <tbody>\n",
       "    <tr>\n",
       "      <th>2018-09-01 01:00:00-07:00</th>\n",
       "      <td>960.0</td>\n",
       "    </tr>\n",
       "    <tr>\n",
       "      <th>2018-09-01 01:15:00-07:00</th>\n",
       "      <td>880.0</td>\n",
       "    </tr>\n",
       "    <tr>\n",
       "      <th>2018-09-01 01:30:00-07:00</th>\n",
       "      <td>1040.0</td>\n",
       "    </tr>\n",
       "    <tr>\n",
       "      <th>2018-09-01 01:45:00-07:00</th>\n",
       "      <td>1040.0</td>\n",
       "    </tr>\n",
       "    <tr>\n",
       "      <th>2018-09-01 02:00:00-07:00</th>\n",
       "      <td>960.0</td>\n",
       "    </tr>\n",
       "  </tbody>\n",
       "</table>\n",
       "</div>"
      ],
      "text/plain": [
       "                           Green_Button_Meter1\n",
       "2018-09-01 01:00:00-07:00                960.0\n",
       "2018-09-01 01:15:00-07:00                880.0\n",
       "2018-09-01 01:30:00-07:00               1040.0\n",
       "2018-09-01 01:45:00-07:00               1040.0\n",
       "2018-09-01 02:00:00-07:00                960.0"
      ]
     },
     "execution_count": 5,
     "metadata": {},
     "output_type": "execute_result"
    }
   ],
   "source": [
    "mdal_obj = Import_MDAL()\n",
    "result = mdal_obj.get_meter(site=site, start=start, end=end, var='meter', agg='RAW', \n",
    "                            window=None, aligned=True, return_names=True)\n",
    "imported_data = result.df\n",
    "imported_data.head()"
   ]
  },
  {
   "cell_type": "code",
   "execution_count": null,
   "metadata": {},
   "outputs": [],
   "source": []
  }
 ],
 "metadata": {
  "kernelspec": {
   "display_name": "Python [default]",
   "language": "python",
   "name": "python3"
  },
  "language_info": {
   "codemirror_mode": {
    "name": "ipython",
    "version": 3
   },
   "file_extension": ".py",
   "mimetype": "text/x-python",
   "name": "python",
   "nbconvert_exporter": "python",
   "pygments_lexer": "ipython3",
   "version": "3.6.6"
  }
 },
 "nbformat": 4,
 "nbformat_minor": 2
}
