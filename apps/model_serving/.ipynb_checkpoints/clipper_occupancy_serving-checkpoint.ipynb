{
 "cells": [
  {
   "cell_type": "code",
   "execution_count": 1,
   "metadata": {
    "collapsed": true
   },
   "outputs": [],
   "source": [
    "from clipper_admin import ClipperConnection, DockerContainerManager\n",
    "from clipper_admin.deployers import python as python_deployer\n",
    "\n",
    "from xbos import get_client\n",
    "from xbos.services.pundat import DataClient, make_dataframe\n",
    "from xbos.services.hod import HodClient\n",
    "\n",
    "import datetime\n",
    "from datetime import timedelta\n",
    "import json\n",
    "import math\n",
    "import numpy as np\n",
    "import pandas as pd\n",
    "import pytz\n",
    "import requests\n",
    "from scipy import spatial\n",
    "%matplotlib inline\n"
   ]
  },
  {
   "cell_type": "code",
   "execution_count": 2,
   "metadata": {
    "collapsed": true
   },
   "outputs": [],
   "source": [
    "def json_deserialize_df(data):\n",
    "    data = pd.DataFrame.from_dict(data)\n",
    "    data.index = pd.to_datetime(data.index, unit='ms')\n",
    "    data.index = data.index.tz_localize(\"US/Pacific\")\n",
    "    return data\n",
    "\n",
    "def convert_timestamp(s):\n",
    "    try:\n",
    "        return datetime.datetime.strptime(s, \"%Y-%m-%d %H:%M:%S\")\n",
    "    except Exception as e:\n",
    "        print e\n",
    "        return \"\"\n",
    "    \n",
    "def hamming_distance(a, b):\n",
    "    return np.count_nonzero(a != b)\n",
    "\n",
    "\n",
    "def eucl_distance(a, b):\n",
    "    return pd.np.linalg.norm(a - b)\n",
    "\n",
    "\n",
    "def mins_in_day(timestamp):\n",
    "    return timestamp.hour * 60 + timestamp.minute\n",
    "\n",
    "def find_similar_days(training_data, now, observation_length, k, method=hamming_distance):\n",
    "    min_time = training_data.index[0] + timedelta(minutes=observation_length)\n",
    "    # Find moments in our dataset that have the same hour/minute and is_weekend() == weekend.\n",
    "    print min_time\n",
    "    selector = ((training_data.index.minute == now.minute) &\n",
    "                (training_data.index.hour == now.hour) &\n",
    "                (training_data.index > min_time))\n",
    "\n",
    "    \"\"\"\n",
    "    if now.weekday() < 5:\n",
    "        selector = (\n",
    "            (training_data.index.minute == now.minute) &\n",
    "            (training_data.index.hour == now.hour) &\n",
    "            (training_data.index > min_time) &\n",
    "            (training_data.index.weekday < 5)\n",
    "        )\n",
    "    else:\n",
    "        selector = (\n",
    "            (training_data.index.minute == now.minute) &\n",
    "            (training_data.index.hour == now.hour) &\n",
    "            (training_data.index > min_time) &\n",
    "            (training_data.index.weekday >= 5)\n",
    "        )\n",
    "    \"\"\"\n",
    "\n",
    "    similar_moments = training_data[selector][:-1]\n",
    "    print len(similar_moments)\n",
    "    obs_td = timedelta(minutes=observation_length)\n",
    "\n",
    "    similar_moments['Similarity'] = [\n",
    "        method(\n",
    "            training_data[(training_data.index >= now - obs_td) &\n",
    "                            (training_data.index <= now)].get_values(),\n",
    "            training_data[(training_data.index >= i - obs_td) &\n",
    "                            (training_data.index <= i)].get_values()\n",
    "        ) for i in similar_moments.index\n",
    "        ]\n",
    "    indexes = (similar_moments.sort_values('Similarity', ascending=True)\n",
    "                .head(k).index)\n",
    "    return indexes\n",
    "\n",
    "\n",
    "def predict_list(input_list):\n",
    "    result =[]\n",
    "    for element in input_list:\n",
    "        (data, now, similar_moments, prediction_time, resample_time) = json.loads(element)\n",
    "        data = json_deserialize_df(json.loads(data))\n",
    "        now = convert_timestamp(now)\n",
    "        similar_moments = pd.read_json(similar_moments, typ='series')\n",
    "        result.append(predict(data, now, similar_moments, prediction_time, resample_time).to_json())\n",
    "    return result\n",
    "\n",
    "def predict(data, now, similar_moments, prediction_time, resample_time):\n",
    "    prediction = np.zeros((int(math.ceil(prediction_time/resample_time)) + 1, len(data.columns)))\n",
    "    for i in similar_moments:\n",
    "        prediction += (float(1.) / float(len(similar_moments))) * data[(data.index >= i) & (data.index <= i + timedelta(minutes=prediction_time))]\n",
    "    print data[data.index == now]['occ']\n",
    "    prediction[0] = data[data.index == now]['occ']\n",
    "    time_index = pd.date_range(now, now+timedelta(minutes=prediction_time),freq='15T')\n",
    "    return pd.DataFrame(data=prediction, index=time_index)\n"
   ]
  },
  {
   "cell_type": "code",
   "execution_count": 3,
   "metadata": {},
   "outputs": [
    {
     "name": "stdout",
     "output_type": "stream",
     "text": [
      "Saw [ucberkeley] archiver 8 seconds 158.385 ms ago\n",
      "Saw [ciee/hod] HodDB 3 seconds 46.768 ms ago\n",
      "[{'?room': 'R211', '?uuid': 'cab606d0-6d14-3aff-a0c2-e862ae297f22', '?x': 'hamilton_005e_pir'}, {'?room': 'R208', '?uuid': 'bdbbbf7c-21c3-3b61-8469-8516a8c666dd', '?x': 'hamilton_002b_pir'}, {'?room': 'R206', '?uuid': '497145c4-2087-3e89-9c8f-f54b87dfb016', '?x': 'hamilton_0027_pir'}, {'?uuid': '97ba99af-869b-3c43-94e3-93040c9bdd33', '?room': 'R208', '?x': 'enlighted_Sensor02d455_occupancy'}, {'?room': 'R208', '?uuid': 'c27adbad-b1b5-342c-91eb-a6709d365871', '?x': 'enlighted_Sensor02d454_occupancy'}, {'?room': 'R208', '?uuid': 'aefa14ef-a13a-355b-9b87-51511db7f541', '?x': 'enlighted_Sensor02d444_occupancy'}, {'?uuid': 'afed35be-ef70-341a-8bf4-565d815bfd90', '?room': 'R208', '?x': 'enlighted_Sensor02d438_occupancy'}, {'?room': 'R210', '?uuid': '989ed503-9aa2-310e-abd3-464f6169e175', '?x': 'hamilton_002a_pir'}, {'?room': 'R208', '?uuid': '2f5c888d-c0c6-33b4-9c30-d609f1e16fea', '?x': 'enlighted_Sensor02d433_occupancy'}, {'?room': 'R208', '?uuid': '2b3f9905-3bb7-302a-9545-7bfe2eb63547', '?x': 'enlighted_Sensor02d432_occupancy'}, {'?room': 'R212', '?uuid': '23d2afce-4c86-37c5-b1c2-f258758c3263', '?x': 'hamilton_005a_pir'}, {'?room': 'R208', '?uuid': '47e37419-5091-3877-a476-bb6f942e93af', '?x': 'hamilton_005d_pir'}, {'?uuid': '611ac5e9-33a5-3273-9fa6-548d3ad59481', '?room': 'R208', '?x': 'enlighted_Sensor02d429_occupancy'}, {'?room': 'R209', '?uuid': '242cde13-7d25-306a-bfc8-918ad7bb26d6', '?x': 'hamilton_002e_pir'}, {'?room': 'R208', '?uuid': '0c51371e-6029-3302-984d-b71d850e899a', '?x': 'enlighted_Sensor013263_occupancy'}, {'?room': 'R208', '?uuid': '00f45f05-08f9-3def-a977-357493fad61e', '?x': 'enlighted_Sensor02d458_occupancy'}, {'?room': 'R207', '?uuid': 'd919a14e-3ebd-3e5b-9727-0df54f287032', '?x': 'hamilton_005c_pir'}]\n",
      "2017-08-19 11:00:00-07:00\n",
      "31\n"
     ]
    }
   ],
   "source": [
    "c = get_client()\n",
    "archiver = DataClient(c)\n",
    "hod = HodClient(\"ciee/hod\",c)\n",
    "occ_query = \"\"\"SELECT ?occ ?uuid ?room WHERE {\n",
    "?occ rdf:type/rdfs:subClassOf* brick:Occupancy_Sensor .\n",
    "?occ bf:uuid ?uuid .\n",
    "?occ bf:isLocatedIn ?room .\n",
    "?room rdf:type brick:Room .\n",
    "};\n",
    "\"\"\"\n",
    "occ_query = \"\"\"SELECT ?x ?room ?uuid WHERE {\n",
    "    ?x rdf:type/rdfs:subClassOf* brick:Occupancy_Sensor .\n",
    "  \t?x bf:isLocatedIn ?room .\n",
    "    ?room bf:isPartOf bldg:SouthZone .\n",
    "  \t?x bf:uuid ?uuid .\n",
    "};\n",
    "\"\"\"\n",
    "results = hod.do_query(occ_query)\n",
    "uuids = [x['?uuid'] for x in results['Rows']]\n",
    "rooms = [x['?room'] for x in results['Rows']]\n",
    "mapping = dict(zip(uuids, rooms))\n",
    "print results['Rows']\n",
    "start = '\"2017-08-19 07:00:00 PST\"'\n",
    "end = '\"2017-09-20 07:00:00 PST\"'\n",
    "#start = 'now'\n",
    "#end = 'now -30d'\n",
    "dfs = make_dataframe(archiver.window_uuids(uuids, end, start, '15min', timeout=120))\n",
    "for uid, df in dfs.items():\n",
    "    if 'mean' in df.columns:\n",
    "        df = df[['mean']]\n",
    "    df.columns = ['occ']\n",
    "    dfs[uid] = df.resample('15min').mean()\n",
    "    \n",
    "df = dfs.values()[0]\n",
    "if len(dfs) > 1:\n",
    "    for newdf in dfs.values()[1:]:\n",
    "        df['occ'] += newdf['occ']\n",
    "df['occ'] = 1*(df['occ']>0)\n",
    "\n",
    "df.index = df.index.tz_localize('US/Pacific')\n",
    "\n",
    "observation_length_addition = 4*60\n",
    "k = 5\n",
    "prediction_time = 24*60\n",
    "resample_time = 15\n",
    "now = datetime.datetime.now()\n",
    "day = 1\n",
    "hour = 0\n",
    "minute = 0#resample_time * (now.minute / resample_time)\n",
    "second = 0\n",
    "now = datetime.datetime(year=now.year, month=now.month, day=day, hour=hour, minute=minute, second=second)\n",
    "observation_length = mins_in_day(now) + observation_length_addition\n",
    "similar_moments = find_similar_days(df, now, observation_length, k)\n",
    "\n",
    "#predictions = predict(df, now, similar_moments, prediction_time, resample_time)"
   ]
  },
  {
   "cell_type": "code",
   "execution_count": 4,
   "metadata": {
    "scrolled": true
   },
   "outputs": [
    {
     "name": "stdout",
     "output_type": "stream",
     "text": [
      "2017-09-01 00:00:00-07:00    1\n",
      "Name: occ, dtype: int64\n",
      "['{\"0\":{\"1504224000000\":1.0,\"1504224900000\":1.0,\"1504225800000\":1.0,\"1504226700000\":0.8,\"1504227600000\":1.0,\"1504228500000\":1.0,\"1504229400000\":0.8,\"1504230300000\":0.8,\"1504231200000\":0.8,\"1504232100000\":1.0,\"1504233000000\":1.0,\"1504233900000\":1.0,\"1504234800000\":1.0,\"1504235700000\":1.0,\"1504236600000\":1.0,\"1504237500000\":1.0,\"1504238400000\":1.0,\"1504239300000\":1.0,\"1504240200000\":1.0,\"1504241100000\":1.0,\"1504242000000\":1.0,\"1504242900000\":1.0,\"1504243800000\":1.0,\"1504244700000\":1.0,\"1504245600000\":1.0,\"1504246500000\":1.0,\"1504247400000\":1.0,\"1504248300000\":1.0,\"1504249200000\":1.0,\"1504250100000\":1.0,\"1504251000000\":1.0,\"1504251900000\":1.0,\"1504252800000\":0.8,\"1504253700000\":1.0,\"1504254600000\":0.8,\"1504255500000\":0.8,\"1504256400000\":1.0,\"1504257300000\":0.8,\"1504258200000\":1.0,\"1504259100000\":0.8,\"1504260000000\":0.6,\"1504260900000\":0.8,\"1504261800000\":1.0,\"1504262700000\":0.8,\"1504263600000\":0.6,\"1504264500000\":0.6,\"1504265400000\":0.4,\"1504266300000\":0.2,\"1504267200000\":0.2,\"1504268100000\":0.4,\"1504269000000\":0.2,\"1504269900000\":0.4,\"1504270800000\":0.4,\"1504271700000\":0.4,\"1504272600000\":0.2,\"1504273500000\":0.4,\"1504274400000\":0.4,\"1504275300000\":0.4,\"1504276200000\":0.2,\"1504277100000\":0.0,\"1504278000000\":0.0,\"1504278900000\":0.0,\"1504279800000\":0.0,\"1504280700000\":0.0,\"1504281600000\":0.2,\"1504282500000\":0.0,\"1504283400000\":0.0,\"1504284300000\":0.0,\"1504285200000\":0.0,\"1504286100000\":0.0,\"1504287000000\":0.2,\"1504287900000\":0.2,\"1504288800000\":0.0,\"1504289700000\":0.0,\"1504290600000\":0.0,\"1504291500000\":0.0,\"1504292400000\":0.0,\"1504293300000\":0.0,\"1504294200000\":0.0,\"1504295100000\":0.0,\"1504296000000\":0.0,\"1504296900000\":0.0,\"1504297800000\":0.2,\"1504298700000\":0.2,\"1504299600000\":0.2,\"1504300500000\":0.2,\"1504301400000\":0.2,\"1504302300000\":0.2,\"1504303200000\":0.6,\"1504304100000\":0.6,\"1504305000000\":0.6,\"1504305900000\":0.6,\"1504306800000\":0.6,\"1504307700000\":0.6,\"1504308600000\":0.8,\"1504309500000\":0.8,\"1504310400000\":0.8}}']\n"
     ]
    }
   ],
   "source": [
    "predictions = predict_list([json.dumps([df.to_json(), now.strftime(\"%Y-%m-%d %H:%M:%S\"), pd.Series(similar_moments).to_json(), prediction_time, resample_time])])\n",
    "print predictions\n",
    "predictions = json_deserialize_df(json.loads(predictions[0]))\n",
    "#print predictions\n"
   ]
  },
  {
   "cell_type": "code",
   "execution_count": 5,
   "metadata": {},
   "outputs": [
    {
     "name": "stderr",
     "output_type": "stream",
     "text": [
      "17-09-20:19:18:48 INFO     [docker_container_manager.py:96] Starting managed Redis instance in Docker\n",
      "17-09-20:19:18:50 INFO     [clipper_admin.py:111] Clipper is running\n",
      "17-09-20:19:18:50 INFO     [deployer_utils.py:42] Saving function to /tmp/clipper/tmpzwVKi1\n",
      "17-09-20:19:18:52 INFO     [deployer_utils.py:63] Warning: Anaconda environment was either not found or exporting the environment failed. Your function will still be serialized and deployed, but may fail due to missing dependencies. In this case, please re-run inside an Anaconda environment. See http://clipper.ai/documentation/python_model_deployment/ for more information.\n",
      "17-09-20:19:19:00 INFO     [deployer_utils.py:72] Supplied local modules\n",
      "17-09-20:19:19:00 INFO     [deployer_utils.py:78] Serialized and supplied predict function\n",
      "17-09-20:19:19:00 INFO     [python.py:166] Python closure saved\n",
      "17-09-20:19:19:03 INFO     [clipper_admin.py:381] Building model Docker image with model data from /tmp/clipper/tmpzwVKi1\n",
      "17-09-20:19:19:04 INFO     [clipper_admin.py:385] Pushing model Docker image to occupancy:1\n",
      "17-09-20:19:19:05 INFO     [docker_container_manager.py:205] Found 0 replicas for occupancy:1. Adding 1\n",
      "17-09-20:19:19:06 INFO     [clipper_admin.py:533] Successfully registered model occupancy:1\n",
      "17-09-20:19:19:06 INFO     [clipper_admin.py:461] Done deploying model occupancy:1.\n",
      "17-09-20:19:19:06 INFO     [clipper_admin.py:186] Application occupancy-app was successfully registered\n",
      "17-09-20:19:19:06 INFO     [clipper_admin.py:228] Model occupancy is now linked to application occupancy-app\n"
     ]
    }
   ],
   "source": [
    "clipper_conn = ClipperConnection(DockerContainerManager())\n",
    "clipper_conn.start_clipper()\n",
    "python_deployer.deploy_python_closure(\n",
    "    clipper_conn,\n",
    "    name=\"occupancy\",  # The name of the model in Clipper\n",
    "    version=1,  # A unique identifier to assign to this model.\n",
    "    input_type=\"strings\",  # The type of data the model function expects as input\n",
    "    func=predict_list # The model function to deploy\n",
    ")\n",
    "clipper_conn.register_application(\n",
    "    name=\"occupancy-app\",\n",
    "    input_type=\"strings\",\n",
    "    default_output=\"-1\",\n",
    "    slo_micros=1000000000)\n",
    "clipper_conn.link_model_to_app(app_name=\"occupancy-app\", model_name=\"occupancy\")"
   ]
  },
  {
   "cell_type": "code",
   "execution_count": 6,
   "metadata": {},
   "outputs": [
    {
     "name": "stdout",
     "output_type": "stream",
     "text": [
      "{u'default': False, u'output': {u'0': {u'1504260000000': 0.6, u'1504284300000': 0.0, u'1504310400000': 0.8, u'1504286100000': 0.0, u'1504271700000': 0.4, u'1504233000000': 1.0, u'1504243800000': 1.0, u'1504246500000': 1.0, u'1504277100000': 0.0, u'1504245600000': 1.0, u'1504282500000': 0.0, u'1504295100000': 0.0, u'1504261800000': 1.0, u'1504238400000': 1.0, u'1504255500000': 0.8, u'1504239300000': 1.0, u'1504241100000': 1.0, u'1504252800000': 0.8, u'1504276200000': 0.2, u'1504260900000': 0.8, u'1504278900000': 0.0, u'1504230300000': 0.8, u'1504293300000': 0.0, u'1504269900000': 0.4, u'1504254600000': 0.8, u'1504269000000': 0.2, u'1504224900000': 1.0, u'1504296900000': 0.0, u'1504274400000': 0.4, u'1504235700000': 1.0, u'1504244700000': 1.0, u'1504283400000': 0.0, u'1504242000000': 1.0, u'1504263600000': 0.6, u'1504253700000': 1.0, u'1504299600000': 0.2, u'1504292400000': 0.0, u'1504272600000': 0.2, u'1504305000000': 0.6, u'1504301400000': 0.2, u'1504233900000': 1.0, u'1504287900000': 0.2, u'1504228500000': 1.0, u'1504264500000': 0.6, u'1504309500000': 0.8, u'1504251000000': 1.0, u'1504232100000': 1.0, u'1504300500000': 0.2, u'1504296000000': 0.0, u'1504273500000': 0.4, u'1504297800000': 0.2, u'1504306800000': 0.6, u'1504226700000': 0.8, u'1504247400000': 1.0, u'1504259100000': 0.8, u'1504298700000': 0.2, u'1504227600000': 1.0, u'1504262700000': 0.8, u'1504307700000': 0.6, u'1504303200000': 0.6, u'1504258200000': 1.0, u'1504225800000': 1.0, u'1504294200000': 0.0, u'1504229400000': 0.8, u'1504281600000': 0.2, u'1504288800000': 0.0, u'1504265400000': 0.4, u'1504248300000': 1.0, u'1504268100000': 0.4, u'1504291500000': 0.0, u'1504290600000': 0.0, u'1504266300000': 0.2, u'1504279800000': 0.0, u'1504231200000': 0.8, u'1504304100000': 0.6, u'1504234800000': 1.0, u'1504267200000': 0.2, u'1504275300000': 0.4, u'1504257300000': 0.8, u'1504289700000': 0.0, u'1504285200000': 0.0, u'1504302300000': 0.2, u'1504242900000': 1.0, u'1504237500000': 1.0, u'1504270800000': 0.4, u'1504256400000': 1.0, u'1504308600000': 0.8, u'1504236600000': 1.0, u'1504240200000': 1.0, u'1504280700000': 0.0, u'1504305900000': 0.6, u'1504287000000': 0.2, u'1504251900000': 1.0, u'1504278000000': 0.0, u'1504249200000': 1.0, u'1504224000000': 1.0, u'1504250100000': 1.0}}, u'query_id': 0}\n",
      "                             0\n",
      "2017-09-01 00:00:00-07:00  1.0\n",
      "2017-09-01 00:15:00-07:00  1.0\n",
      "2017-09-01 00:30:00-07:00  1.0\n",
      "2017-09-01 00:45:00-07:00  0.8\n",
      "2017-09-01 01:00:00-07:00  1.0\n",
      "2017-09-01 01:15:00-07:00  1.0\n",
      "2017-09-01 01:30:00-07:00  0.8\n",
      "2017-09-01 01:45:00-07:00  0.8\n",
      "2017-09-01 02:00:00-07:00  0.8\n",
      "2017-09-01 02:15:00-07:00  1.0\n",
      "2017-09-01 02:30:00-07:00  1.0\n",
      "2017-09-01 02:45:00-07:00  1.0\n",
      "2017-09-01 03:00:00-07:00  1.0\n",
      "2017-09-01 03:15:00-07:00  1.0\n",
      "2017-09-01 03:30:00-07:00  1.0\n",
      "2017-09-01 03:45:00-07:00  1.0\n",
      "2017-09-01 04:00:00-07:00  1.0\n",
      "2017-09-01 04:15:00-07:00  1.0\n",
      "2017-09-01 04:30:00-07:00  1.0\n",
      "2017-09-01 04:45:00-07:00  1.0\n",
      "2017-09-01 05:00:00-07:00  1.0\n",
      "2017-09-01 05:15:00-07:00  1.0\n",
      "2017-09-01 05:30:00-07:00  1.0\n",
      "2017-09-01 05:45:00-07:00  1.0\n",
      "2017-09-01 06:00:00-07:00  1.0\n",
      "2017-09-01 06:15:00-07:00  1.0\n",
      "2017-09-01 06:30:00-07:00  1.0\n",
      "2017-09-01 06:45:00-07:00  1.0\n",
      "2017-09-01 07:00:00-07:00  1.0\n",
      "2017-09-01 07:15:00-07:00  1.0\n",
      "...                        ...\n",
      "2017-09-01 16:45:00-07:00  0.0\n",
      "2017-09-01 17:00:00-07:00  0.0\n",
      "2017-09-01 17:15:00-07:00  0.0\n",
      "2017-09-01 17:30:00-07:00  0.2\n",
      "2017-09-01 17:45:00-07:00  0.2\n",
      "2017-09-01 18:00:00-07:00  0.0\n",
      "2017-09-01 18:15:00-07:00  0.0\n",
      "2017-09-01 18:30:00-07:00  0.0\n",
      "2017-09-01 18:45:00-07:00  0.0\n",
      "2017-09-01 19:00:00-07:00  0.0\n",
      "2017-09-01 19:15:00-07:00  0.0\n",
      "2017-09-01 19:30:00-07:00  0.0\n",
      "2017-09-01 19:45:00-07:00  0.0\n",
      "2017-09-01 20:00:00-07:00  0.0\n",
      "2017-09-01 20:15:00-07:00  0.0\n",
      "2017-09-01 20:30:00-07:00  0.2\n",
      "2017-09-01 20:45:00-07:00  0.2\n",
      "2017-09-01 21:00:00-07:00  0.2\n",
      "2017-09-01 21:15:00-07:00  0.2\n",
      "2017-09-01 21:30:00-07:00  0.2\n",
      "2017-09-01 21:45:00-07:00  0.2\n",
      "2017-09-01 22:00:00-07:00  0.6\n",
      "2017-09-01 22:15:00-07:00  0.6\n",
      "2017-09-01 22:30:00-07:00  0.6\n",
      "2017-09-01 22:45:00-07:00  0.6\n",
      "2017-09-01 23:00:00-07:00  0.6\n",
      "2017-09-01 23:15:00-07:00  0.6\n",
      "2017-09-01 23:30:00-07:00  0.8\n",
      "2017-09-01 23:45:00-07:00  0.8\n",
      "2017-09-02 00:00:00-07:00  0.8\n",
      "\n",
      "[97 rows x 1 columns]\n"
     ]
    }
   ],
   "source": [
    "headers = {\"Content-type\": \"application/json\"}\n",
    "serialized_string = json.dumps([df.to_json(), now.strftime(\"%Y-%m-%d %H:%M:%S\"), pd.Series(similar_moments).to_json(), prediction_time, resample_time])\n",
    "\n",
    "predictions = requests.post(\"http://localhost:1337/occupancy-app/predict\", headers=headers, data=json.dumps({\"input\": serialized_string})).json()\n",
    "print predictions\n",
    "predictions = json_deserialize_df(predictions['output'])\n",
    "\n",
    "print predictions"
   ]
  },
  {
   "cell_type": "code",
   "execution_count": 7,
   "metadata": {},
   "outputs": [
    {
     "data": {
      "text/plain": [
       "<matplotlib.axes._subplots.AxesSubplot at 0x113186c10>"
      ]
     },
     "execution_count": 7,
     "metadata": {},
     "output_type": "execute_result"
    },
    {
     "data": {
      "image/png": "[encoded data removed]",
      "text/plain": [
       "<matplotlib.figure.Figure at 0x1127638d0>"
      ]
     },
     "metadata": {},
     "output_type": "display_data"
    }
   ],
   "source": [
    "d = np.squeeze(predictions)\n",
    "d.plot()"
   ]
  },
  {
   "cell_type": "code",
   "execution_count": null,
   "metadata": {
    "collapsed": true
   },
   "outputs": [],
   "source": [
    "clipper_conn.get_clipper_logs()"
   ]
  },
  {
   "cell_type": "code",
   "execution_count": null,
   "metadata": {
    "collapsed": true
   },
   "outputs": [],
   "source": [
    "clipper_conn.stop_all()"
   ]
  },
  {
   "cell_type": "code",
   "execution_count": null,
   "metadata": {
    "collapsed": true
   },
   "outputs": [],
   "source": []
  }
 ],
 "metadata": {
  "kernelspec": {
   "display_name": "Python 2",
   "language": "python",
   "name": "python2"
  },
  "language_info": {
   "codemirror_mode": {
    "name": "ipython",
    "version": 2
   },
   "file_extension": ".py",
   "mimetype": "text/x-python",
   "name": "python",
   "nbconvert_exporter": "python",
   "pygments_lexer": "ipython2",
   "version": "2.7.13"
  }
 },
 "nbformat": 4,
 "nbformat_minor": 2
}
