{
 "cells": [
  {
   "cell_type": "code",
   "execution_count": 1,
   "metadata": {
    "collapsed": true
   },
   "outputs": [],
   "source": [
    "from xbos import get_client\n",
    "from xbos.services.pundat import DataClient, make_dataframe\n",
    "from xbos.services.hod import HodClient\n",
    "import datetime\n",
    "import pandas as pd\n",
    "import pytz\n",
    "from datetime import timedelta\n",
    "#from OccupancyThanos import *\n",
    "import numpy as np\n",
    "import pandas as pd\n",
    "from datetime import timedelta\n",
    "import datetime\n",
    "from scipy import spatial\n",
    "import math\n",
    "%matplotlib inline"
   ]
  },
  {
   "cell_type": "code",
   "execution_count": 2,
   "metadata": {
    "collapsed": true
   },
   "outputs": [],
   "source": [
    "def hamming_distance(a, b):\n",
    "    return np.count_nonzero(a != b)\n",
    "\n",
    "\n",
    "def eucl_distance(a, b):\n",
    "    return pd.np.linalg.norm(a - b)\n",
    "\n",
    "\n",
    "def mins_in_day(timestamp):\n",
    "    return timestamp.hour * 60 + timestamp.minute\n",
    "\n",
    "def find_similar_days(training_data, now, observation_length, k, method=hamming_distance):\n",
    "    min_time = training_data.index[0] + timedelta(minutes=observation_length)\n",
    "    # Find moments in our dataset that have the same hour/minute and is_weekend() == weekend.\n",
    "    print min_time\n",
    "    selector = ((training_data.index.minute == now.minute) &\n",
    "                (training_data.index.hour == now.hour) &\n",
    "                (training_data.index > min_time))\n",
    "\n",
    "    \"\"\"\n",
    "    if now.weekday() < 5:\n",
    "        selector = (\n",
    "            (training_data.index.minute == now.minute) &\n",
    "            (training_data.index.hour == now.hour) &\n",
    "            (training_data.index > min_time) &\n",
    "            (training_data.index.weekday < 5)\n",
    "        )\n",
    "    else:\n",
    "        selector = (\n",
    "            (training_data.index.minute == now.minute) &\n",
    "            (training_data.index.hour == now.hour) &\n",
    "            (training_data.index > min_time) &\n",
    "            (training_data.index.weekday >= 5)\n",
    "        )\n",
    "    \"\"\"\n",
    "\n",
    "    similar_moments = training_data[selector][:-1]\n",
    "    print len(similar_moments)\n",
    "    obs_td = timedelta(minutes=observation_length)\n",
    "\n",
    "    similar_moments['Similarity'] = [\n",
    "        method(\n",
    "            training_data[(training_data.index >= now - obs_td) &\n",
    "                            (training_data.index <= now)].get_values(),\n",
    "            training_data[(training_data.index >= i - obs_td) &\n",
    "                            (training_data.index <= i)].get_values()\n",
    "        ) for i in similar_moments.index\n",
    "        ]\n",
    "\n",
    "    indexes = (similar_moments.sort_values('Similarity', ascending=True)\n",
    "                .head(k).index)\n",
    "    return indexes\n",
    "def predict(data, now, similar_moments, prediction_time, resample_time):\n",
    "\n",
    "    prediction = np.zeros((int(math.ceil(prediction_time/resample_time)) + 1, len(data.columns)))\n",
    "    for i in similar_moments:\n",
    "        prediction += (float(1.) / float(len(similar_moments))) * data[(data.index >= i) & (data.index <= i + timedelta(minutes=prediction_time))]\n",
    "    print data[data.index == now]['occ']\n",
    "    prediction[0] = data[data.index == now]['occ']\n",
    "    time_index = pd.date_range(now, now+timedelta(minutes=prediction_time),freq='15T')\n",
    "    return pd.DataFrame(data=prediction, index=time_index)\n"
   ]
  },
  {
   "cell_type": "code",
   "execution_count": 3,
   "metadata": {},
   "outputs": [
    {
     "name": "stdout",
     "output_type": "stream",
     "text": [
      "Saw [ucberkeley] archiver 9 seconds 169.833 ms ago\n",
      "Saw [ciee/hod] HodDB 1 seconds 790.301 ms ago\n"
     ]
    }
   ],
   "source": [
    "c = get_client()\n",
    "archiver = DataClient(c)\n",
    "hod = HodClient(\"ciee/hod\",c)"
   ]
  },
  {
   "cell_type": "code",
   "execution_count": 4,
   "metadata": {},
   "outputs": [
    {
     "name": "stdout",
     "output_type": "stream",
     "text": [
      "[{'?room': 'R211', '?uuid': 'cab606d0-6d14-3aff-a0c2-e862ae297f22', '?x': 'hamilton_005e_pir'}, {'?uuid': 'bdbbbf7c-21c3-3b61-8469-8516a8c666dd', '?room': 'R208', '?x': 'hamilton_002b_pir'}, {'?room': 'R206', '?uuid': '497145c4-2087-3e89-9c8f-f54b87dfb016', '?x': 'hamilton_0027_pir'}, {'?room': 'R208', '?uuid': '97ba99af-869b-3c43-94e3-93040c9bdd33', '?x': 'enlighted_Sensor02d455_occupancy'}, {'?uuid': 'c27adbad-b1b5-342c-91eb-a6709d365871', '?room': 'R208', '?x': 'enlighted_Sensor02d454_occupancy'}, {'?room': 'R208', '?uuid': 'aefa14ef-a13a-355b-9b87-51511db7f541', '?x': 'enlighted_Sensor02d444_occupancy'}, {'?room': 'R208', '?uuid': 'afed35be-ef70-341a-8bf4-565d815bfd90', '?x': 'enlighted_Sensor02d438_occupancy'}, {'?room': 'R210', '?uuid': '989ed503-9aa2-310e-abd3-464f6169e175', '?x': 'hamilton_002a_pir'}, {'?uuid': '2f5c888d-c0c6-33b4-9c30-d609f1e16fea', '?room': 'R208', '?x': 'enlighted_Sensor02d433_occupancy'}, {'?room': 'R208', '?uuid': '2b3f9905-3bb7-302a-9545-7bfe2eb63547', '?x': 'enlighted_Sensor02d432_occupancy'}, {'?room': 'R212', '?uuid': '23d2afce-4c86-37c5-b1c2-f258758c3263', '?x': 'hamilton_005a_pir'}, {'?uuid': '47e37419-5091-3877-a476-bb6f942e93af', '?room': 'R208', '?x': 'hamilton_005d_pir'}, {'?room': 'R208', '?uuid': '611ac5e9-33a5-3273-9fa6-548d3ad59481', '?x': 'enlighted_Sensor02d429_occupancy'}, {'?room': 'R209', '?uuid': '242cde13-7d25-306a-bfc8-918ad7bb26d6', '?x': 'hamilton_002e_pir'}, {'?room': 'R208', '?uuid': '0c51371e-6029-3302-984d-b71d850e899a', '?x': 'enlighted_Sensor013263_occupancy'}, {'?uuid': '00f45f05-08f9-3def-a977-357493fad61e', '?room': 'R208', '?x': 'enlighted_Sensor02d458_occupancy'}, {'?room': 'R207', '?uuid': 'd919a14e-3ebd-3e5b-9727-0df54f287032', '?x': 'hamilton_005c_pir'}]\n"
     ]
    }
   ],
   "source": [
    "occ_query = \"\"\"SELECT ?occ ?uuid ?room WHERE {\n",
    "?occ rdf:type/rdfs:subClassOf* brick:Occupancy_Sensor .\n",
    "?occ bf:uuid ?uuid .\n",
    "?occ bf:isLocatedIn ?room .\n",
    "?room rdf:type brick:Room .\n",
    "};\n",
    "\"\"\"\n",
    "occ_query = \"\"\"SELECT ?x ?room ?uuid WHERE {\n",
    "    ?x rdf:type/rdfs:subClassOf* brick:Occupancy_Sensor .\n",
    "  \t?x bf:isLocatedIn ?room .\n",
    "    ?room bf:isPartOf bldg:SouthZone .\n",
    "  \t?x bf:uuid ?uuid .\n",
    "};\n",
    "\"\"\"\n",
    "results = hod.do_query(occ_query)\n",
    "uuids = [x['?uuid'] for x in results['Rows']]\n",
    "rooms = [x['?room'] for x in results['Rows']]\n",
    "mapping = dict(zip(uuids, rooms))\n",
    "print results['Rows']"
   ]
  },
  {
   "cell_type": "code",
   "execution_count": 5,
   "metadata": {
    "collapsed": true
   },
   "outputs": [],
   "source": [
    "start = '\"2017-08-19 07:00:00 PST\"'\n",
    "end = '\"2017-09-20 07:00:00 PST\"'\n",
    "#start = 'now'\n",
    "#end = 'now -30d'"
   ]
  },
  {
   "cell_type": "code",
   "execution_count": 19,
   "metadata": {
    "collapsed": true
   },
   "outputs": [],
   "source": [
    "dfs = make_dataframe(archiver.window_uuids(uuids, end, start, '15min', timeout=120))\n",
    "for uid, df in dfs.items():\n",
    "    if 'mean' in df.columns:\n",
    "        df = df[['mean']]\n",
    "    df.columns = ['occ']\n",
    "    dfs[uid] = df.resample('15min').mean()\n",
    "    \n",
    "df = dfs.values()[0]\n",
    "if len(dfs) > 1:\n",
    "    for newdf in dfs.values()[1:]:\n",
    "        df['occ'] += newdf['occ']\n",
    "df['occ'] = 1*(df['occ']>0)\n",
    "\n",
    "df.index = df.index.tz_localize('US/Pacific')"
   ]
  },
  {
   "cell_type": "code",
   "execution_count": null,
   "metadata": {
    "collapsed": true
   },
   "outputs": [],
   "source": []
  },
  {
   "cell_type": "code",
   "execution_count": null,
   "metadata": {
    "collapsed": true
   },
   "outputs": [],
   "source": []
  },
  {
   "cell_type": "code",
   "execution_count": 28,
   "metadata": {},
   "outputs": [
    {
     "name": "stdout",
     "output_type": "stream",
     "text": [
      "2017-08-19 11:00:00-07:00\n",
      "31\n",
      "time\n",
      "2017-09-01 00:00:00-07:00    1\n",
      "Freq: 15T, Name: occ, dtype: int64\n"
     ]
    },
    {
     "data": {
      "text/plain": [
       "<matplotlib.axes._subplots.AxesSubplot at 0x7f90d4a54590>"
      ]
     },
     "execution_count": 28,
     "metadata": {},
     "output_type": "execute_result"
    },
    {
     "data": {
      "image/png": "[encoded data removed]",
      "text/plain": [
       "<matplotlib.figure.Figure at 0x7f90d480e1d0>"
      ]
     },
     "metadata": {},
     "output_type": "display_data"
    }
   ],
   "source": [
    "observation_length_addition = 4*60\n",
    "k = 5\n",
    "prediction_time = 24*60\n",
    "resample_time = 15\n",
    "now = datetime.datetime.now()\n",
    "day = 1\n",
    "hour = 0\n",
    "minute = 0#resample_time * (now.minute / resample_time)\n",
    "second = 0\n",
    "now = datetime.datetime(year=now.year, month=now.month, day=day, hour=hour, minute=minute, second=second)\n",
    "observation_length = mins_in_day(now) + observation_length_addition\n",
    "similar_moments = find_similar_days(df, now, observation_length, k)\n",
    "predictions = predict(df, now, similar_moments, prediction_time, resample_time)\n",
    "d = np.squeeze(predictions)\n",
    "d.plot()"
   ]
  },
  {
   "cell_type": "code",
   "execution_count": 29,
   "metadata": {},
   "outputs": [
    {
     "data": {
      "text/plain": [
       "<matplotlib.axes._subplots.AxesSubplot at 0x7f90d4701990>"
      ]
     },
     "execution_count": 29,
     "metadata": {},
     "output_type": "execute_result"
    },
    {
     "data": {
      "image/png": "[encoded data removed]",
      "text/plain": [
       "<matplotlib.figure.Figure at 0x7f90d4814510>"
      ]
     },
     "metadata": {},
     "output_type": "display_data"
    }
   ],
   "source": [
    "df[now:now+timedelta(minutes=prediction_time)].resample('1H').mean().plot(marker='o')"
   ]
  },
  {
   "cell_type": "markdown",
   "metadata": {},
   "source": [
    "Things to do with prediction\n",
    "- plot the envelope/curve\n",
    "- plot per-room, per-zone\n",
    "- general API for \"occupancy data in range [t0, t1]\", transparently populated with historic/predictive data\n",
    "- support predictions of the past (for model evaluations)\n",
    "\n",
    "What goes in the API?\n",
    "\n",
    "Request:\n",
    "- request window of occupancy data\n",
    "- resolution of request (e.g. 15minutes, )\n",
    "- some grouping mechanism, e.g. room, HVAC zone, building\n",
    "\n",
    "Response:\n",
    "- identify which ranges are historical, which are predicted\n",
    "- RMS error of prediction\n",
    "- actual timeseries of prediction"
   ]
  },
  {
   "cell_type": "code",
   "execution_count": null,
   "metadata": {
    "collapsed": true
   },
   "outputs": [],
   "source": [
    "print now\n",
    "print pd.date_range(now, now+timedelta(minutes=prediction_time),freq='15T')"
   ]
  },
  {
   "cell_type": "code",
   "execution_count": null,
   "metadata": {
    "collapsed": true
   },
   "outputs": [],
   "source": []
  },
  {
   "cell_type": "code",
   "execution_count": null,
   "metadata": {
    "collapsed": true
   },
   "outputs": [],
   "source": []
  },
  {
   "cell_type": "code",
   "execution_count": null,
   "metadata": {
    "collapsed": true,
    "scrolled": true
   },
   "outputs": [],
   "source": [
    "def clean_days(dfs):\n",
    "    days = {}\n",
    "    for uid, df in dfs.items():\n",
    "        df = df[['mean']]\n",
    "        df = df.tz_localize('UTC').tz_convert('US/Pacific')\n",
    "        day_start = df.index[0].to_datetime()\n",
    "        day_start = pytz.timezone('US/Pacific').localize(datetime.datetime(year=day_start.year, month=day_start.month, day=day_start.day))\n",
    "        last_day = df.index[-1].to_datetime()\n",
    "        days[uid] = []\n",
    "        while day_start < last_day:\n",
    "            day_end = day_start+datetime.timedelta(days=1)\n",
    "            #print 'got day', pd.to_datetime(day_end)\n",
    "            day = df[day_start:day_end]\n",
    "            day.index = day.index.map(lambda x: datetime.datetime(year=2017, month=1, day=1, hour=x.hour, minute=x.minute, second=x.second))\n",
    "            days[uid].append(day)\n",
    "            day_start = day_end\n",
    "    return days"
   ]
  },
  {
   "cell_type": "code",
   "execution_count": null,
   "metadata": {
    "collapsed": true
   },
   "outputs": [],
   "source": [
    "days = clean_days(dfs)"
   ]
  },
  {
   "cell_type": "code",
   "execution_count": null,
   "metadata": {
    "collapsed": true
   },
   "outputs": [],
   "source": [
    "alldays = pd.concat(days,axis=1).fillna(0)\n",
    "alldays.mean(axis=1).plot()"
   ]
  },
  {
   "cell_type": "code",
   "execution_count": null,
   "metadata": {
    "collapsed": true
   },
   "outputs": [],
   "source": [
    "for uid, subdays in days.items():\n",
    "    df = pd.concat(subdays, axis=1).fillna(0)\n",
    "    early = df[df['mean'] > 0].index.min()\n",
    "    late = df[df['mean'] > 0].index.max()\n",
    "    print mapping[uid],'has occupancy',early,late"
   ]
  },
  {
   "cell_type": "code",
   "execution_count": null,
   "metadata": {
    "collapsed": true
   },
   "outputs": [],
   "source": []
  },
  {
   "cell_type": "code",
   "execution_count": null,
   "metadata": {
    "collapsed": true
   },
   "outputs": [],
   "source": []
  },
  {
   "cell_type": "code",
   "execution_count": null,
   "metadata": {
    "collapsed": true
   },
   "outputs": [],
   "source": []
  },
  {
   "cell_type": "code",
   "execution_count": null,
   "metadata": {
    "collapsed": true
   },
   "outputs": [],
   "source": []
  },
  {
   "cell_type": "code",
   "execution_count": null,
   "metadata": {
    "collapsed": true
   },
   "outputs": [],
   "source": []
  }
 ],
 "metadata": {
  "kernelspec": {
   "display_name": "Python 3",
   "language": "python",
   "name": "python3"
  },
  "language_info": {
   "codemirror_mode": {
    "name": "ipython",
    "version": 3
   },
   "file_extension": ".py",
   "mimetype": "text/x-python",
   "name": "python",
   "nbconvert_exporter": "python",
   "pygments_lexer": "ipython3",
   "version": "3.6.1"
  }
 },
 "nbformat": 4,
 "nbformat_minor": 1
}
