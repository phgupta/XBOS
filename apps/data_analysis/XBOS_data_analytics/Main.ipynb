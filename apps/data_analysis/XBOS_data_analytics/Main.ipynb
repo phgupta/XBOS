{
 "cells": [
  {
   "cell_type": "code",
   "execution_count": 1,
   "metadata": {},
   "outputs": [],
   "source": [
    "import pandas as pd\n",
    "import configparser\n",
    "import matplotlib.pyplot as plt\n",
    "%matplotlib inline\n",
    "\n",
    "from Wrapper import *\n",
    "# from Influx_Dataframe_Client import Influx_Dataframe_Client"
   ]
  },
  {
   "cell_type": "markdown",
   "metadata": {},
   "source": [
    "# Data Sources"
   ]
  },
  {
   "cell_type": "markdown",
   "metadata": {},
   "source": [
    "## MDAL"
   ]
  },
  {
   "cell_type": "code",
   "execution_count": 11,
   "metadata": {},
   "outputs": [],
   "source": [
    "site = \"south-berkeley-senior-center\"\n",
    "start = '2018-09-01T00:00:00Z'\n",
    "end = '2018-11-19T00:00:00Z'\n",
    "\n",
    "mdal_obj = Import_MDAL()"
   ]
  },
  {
   "cell_type": "code",
   "execution_count": 10,
   "metadata": {},
   "outputs": [
    {
     "data": {
      "text/html": [
       "<div>\n",
       "<style scoped>\n",
       "    .dataframe tbody tr th:only-of-type {\n",
       "        vertical-align: middle;\n",
       "    }\n",
       "\n",
       "    .dataframe tbody tr th {\n",
       "        vertical-align: top;\n",
       "    }\n",
       "\n",
       "    .dataframe thead th {\n",
       "        text-align: right;\n",
       "    }\n",
       "</style>\n",
       "<table border=\"1\" class=\"dataframe\">\n",
       "  <thead>\n",
       "    <tr style=\"text-align: right;\">\n",
       "      <th></th>\n",
       "      <th>Green_Button_Meter1</th>\n",
       "    </tr>\n",
       "  </thead>\n",
       "  <tbody>\n",
       "    <tr>\n",
       "      <th>2018-08-31 17:00:00-07:00</th>\n",
       "      <td>3360.0</td>\n",
       "    </tr>\n",
       "    <tr>\n",
       "      <th>2018-08-31 17:15:00-07:00</th>\n",
       "      <td>3520.0</td>\n",
       "    </tr>\n",
       "    <tr>\n",
       "      <th>2018-08-31 17:30:00-07:00</th>\n",
       "      <td>3360.0</td>\n",
       "    </tr>\n",
       "    <tr>\n",
       "      <th>2018-08-31 17:45:00-07:00</th>\n",
       "      <td>3520.0</td>\n",
       "    </tr>\n",
       "    <tr>\n",
       "      <th>2018-08-31 18:00:00-07:00</th>\n",
       "      <td>3520.0</td>\n",
       "    </tr>\n",
       "  </tbody>\n",
       "</table>\n",
       "</div>"
      ],
      "text/plain": [
       "                           Green_Button_Meter1\n",
       "2018-08-31 17:00:00-07:00               3360.0\n",
       "2018-08-31 17:15:00-07:00               3520.0\n",
       "2018-08-31 17:30:00-07:00               3360.0\n",
       "2018-08-31 17:45:00-07:00               3520.0\n",
       "2018-08-31 18:00:00-07:00               3520.0"
      ]
     },
     "execution_count": 10,
     "metadata": {},
     "output_type": "execute_result"
    }
   ],
   "source": [
    "obj1 = mdal_obj.get_meter(site=site, start=start, end=end, var='meter', agg='MEAN', \n",
    "                 window='15min', aligned=True, return_names=True)\n",
    "obj1.df.head()"
   ]
  },
  {
   "cell_type": "code",
   "execution_count": 13,
   "metadata": {},
   "outputs": [
    {
     "data": {
      "text/html": [
       "<div>\n",
       "<style scoped>\n",
       "    .dataframe tbody tr th:only-of-type {\n",
       "        vertical-align: middle;\n",
       "    }\n",
       "\n",
       "    .dataframe tbody tr th {\n",
       "        vertical-align: top;\n",
       "    }\n",
       "\n",
       "    .dataframe thead th {\n",
       "        text-align: right;\n",
       "    }\n",
       "</style>\n",
       "<table border=\"1\" class=\"dataframe\">\n",
       "  <thead>\n",
       "    <tr style=\"text-align: right;\">\n",
       "      <th></th>\n",
       "      <th>Weather_Temperature_Sensor1</th>\n",
       "      <th>Weather_Temperature_Sensor2</th>\n",
       "    </tr>\n",
       "  </thead>\n",
       "  <tbody>\n",
       "    <tr>\n",
       "      <th>2018-08-31 17:00:00-07:00</th>\n",
       "      <td>63.428367</td>\n",
       "      <td>58.212320</td>\n",
       "    </tr>\n",
       "    <tr>\n",
       "      <th>2018-09-01 17:00:00-07:00</th>\n",
       "      <td>59.987216</td>\n",
       "      <td>57.690123</td>\n",
       "    </tr>\n",
       "    <tr>\n",
       "      <th>2018-09-02 17:00:00-07:00</th>\n",
       "      <td>63.235510</td>\n",
       "      <td>56.623310</td>\n",
       "    </tr>\n",
       "    <tr>\n",
       "      <th>2018-09-03 17:00:00-07:00</th>\n",
       "      <td>63.154694</td>\n",
       "      <td>54.917427</td>\n",
       "    </tr>\n",
       "    <tr>\n",
       "      <th>2018-09-04 17:00:00-07:00</th>\n",
       "      <td>59.211875</td>\n",
       "      <td>55.899725</td>\n",
       "    </tr>\n",
       "  </tbody>\n",
       "</table>\n",
       "</div>"
      ],
      "text/plain": [
       "                           Weather_Temperature_Sensor1  \\\n",
       "2018-08-31 17:00:00-07:00                    63.428367   \n",
       "2018-09-01 17:00:00-07:00                    59.987216   \n",
       "2018-09-02 17:00:00-07:00                    63.235510   \n",
       "2018-09-03 17:00:00-07:00                    63.154694   \n",
       "2018-09-04 17:00:00-07:00                    59.211875   \n",
       "\n",
       "                           Weather_Temperature_Sensor2  \n",
       "2018-08-31 17:00:00-07:00                    58.212320  \n",
       "2018-09-01 17:00:00-07:00                    57.690123  \n",
       "2018-09-02 17:00:00-07:00                    56.623310  \n",
       "2018-09-03 17:00:00-07:00                    54.917427  \n",
       "2018-09-04 17:00:00-07:00                    55.899725  "
      ]
     },
     "execution_count": 13,
     "metadata": {},
     "output_type": "execute_result"
    }
   ],
   "source": [
    "obj2 = mdal_obj.get_weather(site=site, start=start, end=end, var='weather', agg='MEAN', \n",
    "                   window='24h', aligned=True, return_names=True)\n",
    "obj2.df.head()"
   ]
  },
  {
   "cell_type": "code",
   "execution_count": 14,
   "metadata": {},
   "outputs": [
    {
     "data": {
      "text/html": [
       "<div>\n",
       "<style scoped>\n",
       "    .dataframe tbody tr th:only-of-type {\n",
       "        vertical-align: middle;\n",
       "    }\n",
       "\n",
       "    .dataframe tbody tr th {\n",
       "        vertical-align: top;\n",
       "    }\n",
       "\n",
       "    .dataframe thead th {\n",
       "        text-align: right;\n",
       "    }\n",
       "</style>\n",
       "<table border=\"1\" class=\"dataframe\">\n",
       "  <thead>\n",
       "    <tr style=\"text-align: right;\">\n",
       "      <th></th>\n",
       "      <th>HVAC_Zone_AC_3_tstat_temperature</th>\n",
       "      <th>HVAC_Zone_Front_Office_tstat_temperature</th>\n",
       "      <th>HVAC_Zone_AC_2_tstat_temperature</th>\n",
       "    </tr>\n",
       "  </thead>\n",
       "  <tbody>\n",
       "    <tr>\n",
       "      <th>2018-08-31 17:00:00-07:00</th>\n",
       "      <td>72.592064</td>\n",
       "      <td>74.393090</td>\n",
       "      <td>72.150443</td>\n",
       "    </tr>\n",
       "    <tr>\n",
       "      <th>2018-09-01 17:00:00-07:00</th>\n",
       "      <td>70.106667</td>\n",
       "      <td>72.243253</td>\n",
       "      <td>69.961194</td>\n",
       "    </tr>\n",
       "    <tr>\n",
       "      <th>2018-09-02 17:00:00-07:00</th>\n",
       "      <td>68.602472</td>\n",
       "      <td>71.691968</td>\n",
       "      <td>68.907314</td>\n",
       "    </tr>\n",
       "    <tr>\n",
       "      <th>2018-09-03 17:00:00-07:00</th>\n",
       "      <td>70.905139</td>\n",
       "      <td>73.412804</td>\n",
       "      <td>70.568589</td>\n",
       "    </tr>\n",
       "    <tr>\n",
       "      <th>2018-09-04 17:00:00-07:00</th>\n",
       "      <td>70.589488</td>\n",
       "      <td>73.503633</td>\n",
       "      <td>70.199911</td>\n",
       "    </tr>\n",
       "  </tbody>\n",
       "</table>\n",
       "</div>"
      ],
      "text/plain": [
       "                           HVAC_Zone_AC_3_tstat_temperature  \\\n",
       "2018-08-31 17:00:00-07:00                         72.592064   \n",
       "2018-09-01 17:00:00-07:00                         70.106667   \n",
       "2018-09-02 17:00:00-07:00                         68.602472   \n",
       "2018-09-03 17:00:00-07:00                         70.905139   \n",
       "2018-09-04 17:00:00-07:00                         70.589488   \n",
       "\n",
       "                           HVAC_Zone_Front_Office_tstat_temperature  \\\n",
       "2018-08-31 17:00:00-07:00                                 74.393090   \n",
       "2018-09-01 17:00:00-07:00                                 72.243253   \n",
       "2018-09-02 17:00:00-07:00                                 71.691968   \n",
       "2018-09-03 17:00:00-07:00                                 73.412804   \n",
       "2018-09-04 17:00:00-07:00                                 73.503633   \n",
       "\n",
       "                           HVAC_Zone_AC_2_tstat_temperature  \n",
       "2018-08-31 17:00:00-07:00                         72.150443  \n",
       "2018-09-01 17:00:00-07:00                         69.961194  \n",
       "2018-09-02 17:00:00-07:00                         68.907314  \n",
       "2018-09-03 17:00:00-07:00                         70.568589  \n",
       "2018-09-04 17:00:00-07:00                         70.199911  "
      ]
     },
     "execution_count": 14,
     "metadata": {},
     "output_type": "execute_result"
    }
   ],
   "source": [
    "obj3 = mdal_obj.get_tstat(site=site, start=start, end=end, var='tstat_temp', agg='MEAN', \n",
    "                 window='24h', aligned=True, return_names=True)\n",
    "obj3.df.head()"
   ]
  },
  {
   "cell_type": "code",
   "execution_count": 17,
   "metadata": {},
   "outputs": [
    {
     "data": {
      "text/html": [
       "<div>\n",
       "<style scoped>\n",
       "    .dataframe tbody tr th:only-of-type {\n",
       "        vertical-align: middle;\n",
       "    }\n",
       "\n",
       "    .dataframe tbody tr th {\n",
       "        vertical-align: top;\n",
       "    }\n",
       "\n",
       "    .dataframe thead th {\n",
       "        text-align: right;\n",
       "    }\n",
       "</style>\n",
       "<table border=\"1\" class=\"dataframe\">\n",
       "  <thead>\n",
       "    <tr style=\"text-align: right;\">\n",
       "      <th></th>\n",
       "      <th>HVAC_Zone_AC_3_tstat_heating_setpoint</th>\n",
       "      <th>HVAC_Zone_AC_2_tstat_heating_setpoint</th>\n",
       "      <th>HVAC_Zone_Front_Office_tstat_heating_setpoint</th>\n",
       "      <th>HVAC_Zone_Front_Office_tstat_state</th>\n",
       "      <th>HVAC_Zone_AC_3_tstat_state</th>\n",
       "      <th>HVAC_Zone_AC_2_tstat_state</th>\n",
       "    </tr>\n",
       "  </thead>\n",
       "  <tbody>\n",
       "    <tr>\n",
       "      <th>2018-08-31 17:00:00-07:00</th>\n",
       "      <td>62.002415</td>\n",
       "      <td>62.002898</td>\n",
       "      <td>62.434447</td>\n",
       "      <td>0.000643</td>\n",
       "      <td>0.000000</td>\n",
       "      <td>0.000000</td>\n",
       "    </tr>\n",
       "    <tr>\n",
       "      <th>2018-09-01 17:00:00-07:00</th>\n",
       "      <td>62.001571</td>\n",
       "      <td>62.002094</td>\n",
       "      <td>62.002786</td>\n",
       "      <td>0.000000</td>\n",
       "      <td>0.000000</td>\n",
       "      <td>0.000000</td>\n",
       "    </tr>\n",
       "    <tr>\n",
       "      <th>2018-09-02 17:00:00-07:00</th>\n",
       "      <td>65.034195</td>\n",
       "      <td>65.029627</td>\n",
       "      <td>65.936960</td>\n",
       "      <td>0.002400</td>\n",
       "      <td>0.013806</td>\n",
       "      <td>0.014613</td>\n",
       "    </tr>\n",
       "    <tr>\n",
       "      <th>2018-09-03 17:00:00-07:00</th>\n",
       "      <td>65.176183</td>\n",
       "      <td>65.169821</td>\n",
       "      <td>66.047387</td>\n",
       "      <td>0.000487</td>\n",
       "      <td>0.005873</td>\n",
       "      <td>0.009788</td>\n",
       "    </tr>\n",
       "    <tr>\n",
       "      <th>2018-09-04 17:00:00-07:00</th>\n",
       "      <td>65.239134</td>\n",
       "      <td>65.132988</td>\n",
       "      <td>65.908072</td>\n",
       "      <td>0.000284</td>\n",
       "      <td>0.061697</td>\n",
       "      <td>0.007195</td>\n",
       "    </tr>\n",
       "  </tbody>\n",
       "</table>\n",
       "</div>"
      ],
      "text/plain": [
       "                           HVAC_Zone_AC_3_tstat_heating_setpoint  \\\n",
       "2018-08-31 17:00:00-07:00                              62.002415   \n",
       "2018-09-01 17:00:00-07:00                              62.001571   \n",
       "2018-09-02 17:00:00-07:00                              65.034195   \n",
       "2018-09-03 17:00:00-07:00                              65.176183   \n",
       "2018-09-04 17:00:00-07:00                              65.239134   \n",
       "\n",
       "                           HVAC_Zone_AC_2_tstat_heating_setpoint  \\\n",
       "2018-08-31 17:00:00-07:00                              62.002898   \n",
       "2018-09-01 17:00:00-07:00                              62.002094   \n",
       "2018-09-02 17:00:00-07:00                              65.029627   \n",
       "2018-09-03 17:00:00-07:00                              65.169821   \n",
       "2018-09-04 17:00:00-07:00                              65.132988   \n",
       "\n",
       "                           HVAC_Zone_Front_Office_tstat_heating_setpoint  \\\n",
       "2018-08-31 17:00:00-07:00                                      62.434447   \n",
       "2018-09-01 17:00:00-07:00                                      62.002786   \n",
       "2018-09-02 17:00:00-07:00                                      65.936960   \n",
       "2018-09-03 17:00:00-07:00                                      66.047387   \n",
       "2018-09-04 17:00:00-07:00                                      65.908072   \n",
       "\n",
       "                           HVAC_Zone_Front_Office_tstat_state  \\\n",
       "2018-08-31 17:00:00-07:00                            0.000643   \n",
       "2018-09-01 17:00:00-07:00                            0.000000   \n",
       "2018-09-02 17:00:00-07:00                            0.002400   \n",
       "2018-09-03 17:00:00-07:00                            0.000487   \n",
       "2018-09-04 17:00:00-07:00                            0.000284   \n",
       "\n",
       "                           HVAC_Zone_AC_3_tstat_state  \\\n",
       "2018-08-31 17:00:00-07:00                    0.000000   \n",
       "2018-09-01 17:00:00-07:00                    0.000000   \n",
       "2018-09-02 17:00:00-07:00                    0.013806   \n",
       "2018-09-03 17:00:00-07:00                    0.005873   \n",
       "2018-09-04 17:00:00-07:00                    0.061697   \n",
       "\n",
       "                           HVAC_Zone_AC_2_tstat_state  \n",
       "2018-08-31 17:00:00-07:00                    0.000000  \n",
       "2018-09-01 17:00:00-07:00                    0.000000  \n",
       "2018-09-02 17:00:00-07:00                    0.014613  \n",
       "2018-09-03 17:00:00-07:00                    0.009788  \n",
       "2018-09-04 17:00:00-07:00                    0.007195  "
      ]
     },
     "execution_count": 17,
     "metadata": {},
     "output_type": "execute_result"
    }
   ],
   "source": [
    "obj4 = mdal_obj.get_tstat(site=site, start=start, end=end, var=['tstat_hsp',\"tstat_state\"], agg=['MEAN','MEAN'], \n",
    "                          window='24h', aligned=True, return_names=True)\n",
    "obj4.df.head()"
   ]
  },
  {
   "cell_type": "markdown",
   "metadata": {},
   "source": [
    "## XBOS"
   ]
  },
  {
   "cell_type": "code",
   "execution_count": 3,
   "metadata": {},
   "outputs": [],
   "source": [
    "# xbos_obj = Import_XBOS()\n",
    "# xbos_obj.get_weather_power_tstat('ciee', '2018-08-01T00:00:00Z', '2018-08-30T00:00:00Z', \n",
    "#                                         data_type=['power', 'temperature'])\n",
    "# imported_data = xbos_obj.data\n",
    "# imported_data.head()"
   ]
  },
  {
   "cell_type": "code",
   "execution_count": 4,
   "metadata": {},
   "outputs": [],
   "source": [
    "# main_obj = Wrapper()\n",
    "\n",
    "# cleaned_data = main_obj.clean_data(imported_data, high_bound=9998,\n",
    "#                                 rename_col=['1', '2', '3', '4', '5'],\n",
    "#                                 drop_col='1',\n",
    "#                                 save_file=False)\n",
    "\n",
    "# preprocessed_data = main_obj.preprocess_data(cleaned_data, week=True, tod=True, \n",
    "#                                             standardize=True,\n",
    "#                                             save_file=False)\n",
    "\n",
    "# main_obj.model(preprocessed_data, dep_col='5', alphas=np.logspace(-4,1,5), figsize=(18,5),\n",
    "#                 cv=5,\n",
    "#                 baseline_period=[\"2018-08-01\",\"2018-08-15\"], \n",
    "#                 projection_period=[\"2018-08-16\",\"2018-08-30\"])\n",
    "\n",
    "# main_obj.write_json()"
   ]
  },
  {
   "cell_type": "markdown",
   "metadata": {},
   "source": [
    "## CSV"
   ]
  },
  {
   "cell_type": "code",
   "execution_count": 5,
   "metadata": {
    "scrolled": false
   },
   "outputs": [],
   "source": [
    "# main_obj = Wrapper()\n",
    "# main_obj.read_json(file_name='input.json')\n",
    "# main_obj.search(file_name='input.json')"
   ]
  },
  {
   "cell_type": "code",
   "execution_count": 6,
   "metadata": {},
   "outputs": [],
   "source": [
    "# def func(X, y):\n",
    "#     from sklearn.linear_model import LinearRegression\n",
    "#     from sklearn.model_selection import cross_val_score\n",
    "#     model = LinearRegression()\n",
    "#     model.fit(X, y)\n",
    "#     return model.predict(X)\n",
    "\n",
    "# main_obj = Wrapper()\n",
    "\n",
    "# imported_data = main_obj.import_data(folder_name='../data/', head_row=[5,5,0], \n",
    "#                                      save_file=False)\n",
    "\n",
    "# cleaned_data = main_obj.clean_data(imported_data,\n",
    "#                                     resampler='max',\n",
    "#                                     high_bound=9998,\n",
    "#                                     rename_col=['OAT','RelHum_Avg', 'CHW_Elec', 'Elec', 'Gas', 'HW_Heat'],\n",
    "#                                     drop_col='Elec',\n",
    "#                                     save_file=False)\n",
    "\n",
    "# preprocessed_data = main_obj.preprocess_data(cleaned_data, week=True, tod=True, \n",
    "#                                             normalize=True,\n",
    "#                                             save_file=False)\n",
    "\n",
    "# main_obj.model(preprocessed_data, dep_col='HW_Heat', alphas=np.logspace(-4,1,5), figsize=(18,5),\n",
    "#                 cv=5,\n",
    "#                 baseline_period=[\"2014-01\",\"2014-12\"], \n",
    "#                 projection_period=[\"2015-01\",\"2015-12\", \"2016-01\",\"2016-12\"],\n",
    "# #                project_ind_col=['OAT'],\n",
    "#                 exclude_time_period=[],\n",
    "#                 custom_model_func=func)\n",
    "\n",
    "# main_obj.write_json()"
   ]
  },
  {
   "cell_type": "markdown",
   "metadata": {},
   "source": [
    "## InfluxDB"
   ]
  },
  {
   "cell_type": "code",
   "execution_count": 7,
   "metadata": {},
   "outputs": [],
   "source": [
    "# database = 'pyTestDB' # Change this in config file!\n",
    "# measurement = 'SkySpark_Power'\n",
    "# tags_list = ['Building_Number']\n",
    "# values_list = ['30_1']\n",
    "# client = Influx_Dataframe_Client('./influx_config.yaml')\n",
    "\n",
    "# query1 = client.specific_query(database, measurement, tags=tags_list, values=values_list,\n",
    "#                                 start_time='2017-08-01 00:00:00', end_time='2018-07-31 00:00:00')\n",
    "# query2 = client.specific_query(database, measurement='Outdoor_Air_Temperature',\n",
    "#                                 start_time='2017-08-01 00:00:00', end_time='2018-07-31 00:00:00')"
   ]
  },
  {
   "cell_type": "code",
   "execution_count": 8,
   "metadata": {},
   "outputs": [],
   "source": [
    "# df = query1.copy()\n",
    "# df = df.join(query2, how='outer')\n",
    "# df.plot()"
   ]
  },
  {
   "cell_type": "code",
   "execution_count": 9,
   "metadata": {},
   "outputs": [],
   "source": [
    "# main_obj = Wrapper()\n",
    "\n",
    "# cleaned_data = main_obj.clean_data(df, rename_col=['Power', 'OAT'])\n",
    "\n",
    "# preprocessed_data = main_obj.preprocess_data(cleaned_data, col_degree=['OAT'], degree=[2], \n",
    "#                                               month=True, week=True)\n",
    "\n",
    "# main_obj.model(preprocessed_data, dep_col='Power', baseline_period=[\"2017-08\", \"2018-04\"],\n",
    "#                projection_period=[\"2018-05\", \"2018-07\"],\n",
    "#                alphas=np.logspace(-4,1,5))\n",
    "# main_obj.write_json()"
   ]
  },
  {
   "cell_type": "code",
   "execution_count": null,
   "metadata": {},
   "outputs": [],
   "source": []
  }
 ],
 "metadata": {
  "kernelspec": {
   "display_name": "Python [default]",
   "language": "python",
   "name": "python3"
  },
  "language_info": {
   "codemirror_mode": {
    "name": "ipython",
    "version": 3
   },
   "file_extension": ".py",
   "mimetype": "text/x-python",
   "name": "python",
   "nbconvert_exporter": "python",
   "pygments_lexer": "ipython3",
   "version": "3.6.6"
  }
 },
 "nbformat": 4,
 "nbformat_minor": 2
}
